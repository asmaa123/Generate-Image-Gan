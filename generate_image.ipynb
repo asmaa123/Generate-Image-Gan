{
 "cells": [
  {
   "cell_type": "code",
   "execution_count": 2,
   "id": "31f09e73-5cdc-47ad-8ffe-cad603ff8e4c",
   "metadata": {},
   "outputs": [
    {
     "name": "stdout",
     "output_type": "stream",
     "text": [
      "Overwriting generate_image.py\n"
     ]
    }
   ],
   "source": [
    "%%writefile generate_image.py\n",
    "\n",
    "from diffusers import StableDiffusionPipeline\n",
    "import torch\n",
    "from pathlib import Path\n",
    "\n",
    "# Load the model once\n",
    "model_id = \"sd-legacy/stable-diffusion-v1-5\"\n",
    "pipe = StableDiffusionPipeline.from_pretrained(model_id, torch_dtype=torch.float32 )\n",
    "pipe = pipe.to(\"cpu\")  # Change to \"mps\" if on Apple GPU\n",
    "\n",
    "# Path for cached images\n",
    "CACHE_DIR = Path(\"cache_images\")\n",
    "CACHE_DIR.mkdir(exist_ok=True)\n",
    "\n",
    "def generate_image(prompt: str, width: int = 512, height: int = 512,\n",
    "                   num_inference_steps: int = 50, guidance_scale: float = 7.5):\n",
    "    \"\"\"\n",
    "    Generates an image from the given prompt.\n",
    "    If the image already exists in cache, returns the cached image path.\n",
    "    \n",
    "    Parameters:\n",
    "    - prompt: Text prompt in English\n",
    "    - width: Image width\n",
    "    - height: Image height\n",
    "    - num_inference_steps: Number of denoising steps\n",
    "    - guidance_scale: Classifier-free guidance scale\n",
    "    \"\"\"\n",
    "    # Safe filename based on prompt and options\n",
    "    safe_name = \"_\".join(prompt.lower().split()) + f\"_{width}x{height}_{num_inference_steps}_{guidance_scale}.png\"\n",
    "    img_path = CACHE_DIR / safe_name\n",
    "\n",
    "    # Return cached image if it exists\n",
    "    if img_path.exists():\n",
    "        return img_path\n",
    "\n",
    "    # Generate the image\n",
    "    image = pipe(prompt, width=width, height=height,\n",
    "                 num_inference_steps=num_inference_steps,\n",
    "                 guidance_scale=guidance_scale).images[0]\n",
    "    image.save(img_path)\n",
    "    return img_path\n"
   ]
  },
  {
   "cell_type": "code",
   "execution_count": null,
   "id": "2c7de2de-d614-468a-9671-8286fb0c5202",
   "metadata": {},
   "outputs": [],
   "source": []
  },
  {
   "cell_type": "code",
   "execution_count": null,
   "id": "2129bcc9-1642-48d4-83da-0bb93222725b",
   "metadata": {},
   "outputs": [],
   "source": []
  }
 ],
 "metadata": {
  "kernelspec": {
   "display_name": "Python 3 (ipykernel)",
   "language": "python",
   "name": "python3"
  },
  "language_info": {
   "codemirror_mode": {
    "name": "ipython",
    "version": 3
   },
   "file_extension": ".py",
   "mimetype": "text/x-python",
   "name": "python",
   "nbconvert_exporter": "python",
   "pygments_lexer": "ipython3",
   "version": "3.11.13"
  }
 },
 "nbformat": 4,
 "nbformat_minor": 5
}
