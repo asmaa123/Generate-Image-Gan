{
 "cells": [
  {
   "cell_type": "code",
   "execution_count": 3,
   "id": "16227979-cd59-4d7e-b213-e1fd78da8311",
   "metadata": {},
   "outputs": [
    {
     "name": "stdout",
     "output_type": "stream",
     "text": [
      "Overwriting app_streamlit_generate_image.py\n"
     ]
    }
   ],
   "source": [
    "%%writefile app_streamlit_generate_image.py\n",
    "\n",
    "import streamlit as st\n",
    "from diffusers import StableDiffusionPipeline\n",
    "import torch\n",
    "from PIL import Image\n",
    "import io\n",
    "\n",
    "# Page configuration\n",
    "st.set_page_config(\n",
    "    page_title=\"AI Image Generator\",\n",
    "    page_icon=\"🎨\",\n",
    "    layout=\"centered\",\n",
    "    initial_sidebar_state=\"expanded\"\n",
    ")\n",
    "\n",
    "st.title(\"🎨 AI Image Generator\")\n",
    "st.markdown(\"Enter a prompt in English and customize the generation parameters.\")\n",
    "\n",
    "# Advanced options sidebar\n",
    "st.sidebar.header(\"Advanced Options\")\n",
    "width = st.sidebar.slider(\"Image Width\", 256, 1024, 512, step=64)\n",
    "height = st.sidebar.slider(\"Image Height\", 256, 1024, 512, step=64)\n",
    "num_inference_steps = st.sidebar.slider(\"Inference Steps\", 10, 100, 50, step=5)\n",
    "guidance_scale = st.sidebar.slider(\"Guidance Scale\", 1.0, 20.0, 7.5, step=0.5)\n",
    "\n",
    "# Prompt input\n",
    "prompt = st.text_input(\"Enter your prompt (English only):\")\n",
    "\n",
    "# Load model with caching\n",
    "@st.cache_resource\n",
    "def load_model():\n",
    "    device = \"cuda\" if torch.cuda.is_available() else \"cpu\"\n",
    "    pipe = StableDiffusionPipeline.from_pretrained(\n",
    "        \"sd-legacy/stable-diffusion-v1-5\",\n",
    "        torch_dtype=torch.float32  # float16 لا تعمل على CPU\n",
    "    )\n",
    "    pipe = pipe.to(device)\n",
    "    return pipe\n",
    "\n",
    "pipe = load_model()\n",
    "\n",
    "# Generate button\n",
    "if st.button(\"Generate\"):\n",
    "    if prompt.strip() == \"\":\n",
    "        st.warning(\"⚠️ Please enter a prompt in English!\")\n",
    "    else:\n",
    "        progress_bar = st.progress(0)\n",
    "        status_text = st.empty()\n",
    "\n",
    "        # Callback function لتحديث البار لكل خطوة\n",
    "        def callback(step: int, timestep: int, latents):\n",
    "            progress = int((step + 1) / num_inference_steps * 100)\n",
    "            if progress > 100:\n",
    "                progress = 100\n",
    "            progress_bar.progress(progress)\n",
    "            progress_bar.progress(progress)\n",
    "            status_text.text(f\"Generating image... {progress}%\")\n",
    "\n",
    "        with st.spinner(\"Generating image...\"):\n",
    "            image = pipe(\n",
    "                prompt,\n",
    "                width=width,\n",
    "                height=height,\n",
    "                num_inference_steps=num_inference_steps,\n",
    "                guidance_scale=guidance_scale,\n",
    "                callback=callback,\n",
    "                callback_steps=1\n",
    "            ).images[0]\n",
    "\n",
    "        # عرض الصورة\n",
    "        st.image(image, caption=\"Generated Image\", use_column_width=True)\n",
    "\n",
    "        # زر تحميل\n",
    "        buf = io.BytesIO()\n",
    "        image.save(buf, format=\"PNG\")\n",
    "        st.download_button(\n",
    "            label=\"Download Image\",\n",
    "            data=buf,\n",
    "            file_name=\"generated_image.png\",\n",
    "            mime=\"image/png\"\n",
    "        )\n",
    "        st.success(\"✅ Done!\")\n"
   ]
  },
  {
   "cell_type": "code",
   "execution_count": null,
   "id": "dc32007d-465f-4362-87b8-46d29024c267",
   "metadata": {},
   "outputs": [],
   "source": [
    "! streamlit run app_streamlit_generate_image.py"
   ]
  },
  {
   "cell_type": "code",
   "execution_count": null,
   "id": "6cf4c011-f4fd-4a7e-b5a9-328a8b1f25cf",
   "metadata": {},
   "outputs": [],
   "source": []
  }
 ],
 "metadata": {
  "kernelspec": {
   "display_name": "Python 3 (ipykernel)",
   "language": "python",
   "name": "python3"
  },
  "language_info": {
   "codemirror_mode": {
    "name": "ipython",
    "version": 3
   },
   "file_extension": ".py",
   "mimetype": "text/x-python",
   "name": "python",
   "nbconvert_exporter": "python",
   "pygments_lexer": "ipython3",
   "version": "3.11.13"
  }
 },
 "nbformat": 4,
 "nbformat_minor": 5
}
